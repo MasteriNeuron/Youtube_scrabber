{
 "cells": [
  {
   "cell_type": "markdown",
   "id": "77933cf8-f488-41c3-ba0d-b180c5693545",
   "metadata": {},
   "source": [
    "### Assignment"
   ]
  },
  {
   "cell_type": "code",
   "execution_count": 4,
   "id": "5bb6ce24-05be-4568-a37d-dbe6722c4f38",
   "metadata": {},
   "outputs": [],
   "source": [
    "from flask import Flask, render_template, request, jsonify\n",
    "from flask_cors import CORS,cross_origin\n",
    "import logging\n",
    "import os\n",
    "import requests\n",
    "import re\n",
    "import pandas as pd\n",
    "\n",
    "\n"
   ]
  },
  {
   "cell_type": "code",
   "execution_count": 28,
   "id": "7ca388f3-b74e-444c-ac39-e79aebad078a",
   "metadata": {},
   "outputs": [
    {
     "name": "stdin",
     "output_type": "stream",
     "text": [
      " YRF\n"
     ]
    }
   ],
   "source": [
    "input_text = input(\"input youtube channel name\")\n",
    "url = f'https://www.youtube.com/@{input_text}/videos'\n",
    "headers = {\n",
    "'User-Agent': 'Mozilla/5.0 (Windows NT 10.0; rv:91.0) Gecko/20100101 Firefox/91.0',\n",
    "'Accept-Language': 'en-US,en;q=0.9'\n",
    "}\n",
    "\n",
    "\n",
    "response = requests.get(url, headers=headers)\n",
    "response_text = response.text\n",
    "\n",
    "\n",
    "\n",
    "vid_titles = re.findall('\"title\":{\"runs\":\\[{\"text\":\".*?\"', response_text)\n"
   ]
  },
  {
   "cell_type": "code",
   "execution_count": 29,
   "id": "d7203412-7694-437a-8fbe-9bf81f251b43",
   "metadata": {},
   "outputs": [
    {
     "data": {
      "text/plain": [
       "['\"title\":{\"runs\":[{\"text\":\"Making of Jhoome Jo Pathaan Song | Pathaan | Shah Rukh Khan | Deepika Padukone | Siddharth Anand\"',\n",
       " '\"title\":{\"runs\":[{\"text\":\"Making of Besharam Rang Song | Pathaan | Shah Rukh Khan | Deepika Padukone | Siddharth Anand\"',\n",
       " '\"title\":{\"runs\":[{\"text\":\"World of Pathaan | Making Video | Shah Rukh Khan | Deepika Padukone | John Abraham | Siddharth Anand\"',\n",
       " '\"title\":{\"runs\":[{\"text\":\"Pathaan in Dubai | Making Video | Shah Rukh Khan | John Abraham | Siddharth Anand | In Cinemas Now\"',\n",
       " '\"title\":{\"runs\":[{\"text\":\"Pathaan Success Press Meet | Shah Rukh Khan | Deepika Padukone | John Abraham | Siddharth Anand\"',\n",
       " '\"title\":{\"runs\":[{\"text\":\"The Romantics | Official Trailer | Shah Rukh Khan, Salman Khan, Ranbir Kapoor | Netflix India\"',\n",
       " '\"title\":{\"runs\":[{\"text\":\"Pathaan Conversations with Sukriti Kakar | In Cinemas Now\"',\n",
       " '\"title\":{\"runs\":[{\"text\":\"Pathaan Conversations with Shilpa Rao | In Cinemas Now\"',\n",
       " '\"title\":{\"runs\":[{\"text\":\"Pathaan Conversations with Deepika Padukone | In Cinemas Now\"',\n",
       " '\"title\":{\"runs\":[{\"text\":\"Pathaan conversations with Bosco Martis | In Cinemas Now\"',\n",
       " '\"title\":{\"runs\":[{\"text\":\"Pathaan conversations with Vaibhavi Merchant | In Cinemas Now\"',\n",
       " '\"title\":{\"runs\":[{\"text\":\"Pathaan conversations with Vishal Dadlani | In Cinemas Now\"',\n",
       " '\"title\":{\"runs\":[{\"text\":\"Pathaan Advance Bookings Now Open | In Cinemas Now\"',\n",
       " '\"title\":{\"runs\":[{\"text\":\"Pathaan conversations with John Abraham | In Cinemas Now\"',\n",
       " '\"title\":{\"runs\":[{\"text\":\"Jhoome Jo Pathaan Arabic Version, Shah Rukh, Deepika, Grini, Jamila, Vishal-Sheykhar, جوومى جو باتان\"',\n",
       " '\"title\":{\"runs\":[{\"text\":\"Pathaan conversations with Shah Rukh Khan | In Cinemas Now\"',\n",
       " '\"title\":{\"runs\":[{\"text\":\"chai supremacy 🤌 #kaalapatthar #amitabhbachchan #shatrughansinha #shashikapoor #dialogue #yrfshorts\"',\n",
       " '\"title\":{\"runs\":[{\"text\":\"Pathaan takes over Burj Khalifa | Shah Rukh Khan | Siddharth Anand\"',\n",
       " '\"title\":{\"runs\":[{\"text\":\"Pathaan conversations with Siddharth Anand | In Cinemas Now\"',\n",
       " '\"title\":{\"runs\":[{\"text\":\"Pathaan | Official Trailer | Shah Rukh Khan | Deepika Padukone | John Abraham | Siddharth Anand\"',\n",
       " '\"title\":{\"runs\":[{\"text\":\"Pathaan Full Song Audio Jukebox | Vishal \\\\u0026 Sheykhar, Sanchit \\\\u0026 Ankit | Arijit Singh, Shilpa, Kumaar\"',\n",
       " '\"title\":{\"runs\":[{\"text\":\"Jhoome Jo Pathaan Song | Shah Rukh Khan, Deepika | Vishal \\\\u0026 Sheykhar, Arijit Singh, Sukriti, Kumaar\"',\n",
       " '\"title\":{\"runs\":[{\"text\":\"Besharam Rang Song | Pathaan | Shah Rukh Khan, Deepika Padukone | Vishal \\\\u0026 Sheykhar | Shilpa, Kumaar\"',\n",
       " '\"title\":{\"runs\":[{\"text\":\"Aaina | Video Jukebox | Jackie Shroff, Juhi Chawla, Amrita Singh  | Dilip Sen - Sameer Sen | Sameer\"',\n",
       " '\"title\":{\"runs\":[{\"text\":\"Hum Tum | LoFi Mix | Alka Yagnik, Babul Supriyo | Jatin Lalit, Prasoon Joshi | Remix By Jus Keys\"',\n",
       " '\"title\":{\"runs\":[{\"text\":\"Uunchai - Official Trailer | Amitabh Bachchan, Anupam Kher, Boman Irani\"',\n",
       " '\"title\":{\"runs\":[{\"text\":\"Pathaan | Official Teaser | Shah Rukh Khan | Deepika Padukone | John Abraham | Siddharth Anand\"',\n",
       " '\"title\":{\"runs\":[{\"text\":\"Drishyam 2: Official Trailer | Ajay Devgn | Akshaye Khanna | Tabu | Shriya Saran | Abhishek Pathak\"',\n",
       " '\"title\":{\"runs\":[{\"text\":\"Dil To Pagal Hai | LoFi Mix | Lata Mangeshkar, Udit Narayan | Uttam S | Anand B | Remix By Jus Keys\"',\n",
       " '\"title\":{\"runs\":[{\"text\":\"Setting the diwali mood right 🪔 | #diwali #happydiwali #diwalimashup #diwalidancesongs #yrfshorts\"',\n",
       " '\"title\":{\"runs\":[{\"text\":\"Keyboard shortcuts\"',\n",
       " '\"title\":{\"runs\":[{\"text\":\"Playback\"',\n",
       " '\"title\":{\"runs\":[{\"text\":\"General\"',\n",
       " '\"title\":{\"runs\":[{\"text\":\"Subtitles and closed captions\"',\n",
       " '\"title\":{\"runs\":[{\"text\":\"Spherical Videos\"']"
      ]
     },
     "execution_count": 29,
     "metadata": {},
     "output_type": "execute_result"
    }
   ],
   "source": [
    "vid_titles "
   ]
  },
  {
   "cell_type": "code",
   "execution_count": 30,
   "id": "79d032e6-3b94-4268-af6b-4fa0ccf9ca55",
   "metadata": {},
   "outputs": [],
   "source": [
    "vid_thumbnails = re.findall(r\"https://i.ytimg.com/vi/[A-Za-z0-9_-]{11}/[A-Za-z0-9_]{9}.jpg\", response_text)\n",
    "vid_thumbnails"
   ]
  },
  {
   "cell_type": "code",
   "execution_count": 31,
   "id": "c19cbe66-0ad7-4441-94fa-bbfc7f4289e6",
   "metadata": {},
   "outputs": [],
   "source": [
    "vid_links = re.findall(r\"watch\\?v=[A-Za-z0-9_-]{11}\", response_text)\n",
    "vid_links"
   ]
  },
  {
   "cell_type": "code",
   "execution_count": 32,
   "id": "7b7a4326-776d-485f-a541-edca2978e69e",
   "metadata": {},
   "outputs": [],
   "source": [
    "pattern3 = re.compile(r\"[0-9]+(\\.[0-9]+)?[a-zA-Z]*K views\")  # view count\n",
    "pattern3"
   ]
  },
  {
   "cell_type": "code",
   "execution_count": 33,
   "id": "013f76cc-3bd2-452a-a216-966e8616d9d5",
   "metadata": {},
   "outputs": [],
   "source": [
    "pattern4 = re.compile(r\"\\d+ (minutes|hours|hour|days|day|weeks|week|years|year) ago\")  # vedio age\n",
    "pattern4"
   ]
  },
  {
   "cell_type": "code",
   "execution_count": 34,
   "id": "cb420799-e2ac-49a7-bf55-97d10957642c",
   "metadata": {},
   "outputs": [],
   "source": [
    "matches1 = pattern3.finditer(response_text)\n",
    "matches2 = pattern4.finditer(response_text)"
   ]
  },
  {
   "cell_type": "code",
   "execution_count": 35,
   "id": "da255cde-089a-4f53-9878-67ea14539815",
   "metadata": {},
   "outputs": [],
   "source": [
    "vid_viewcounts=[]\n",
    "vid_ages=[]\n",
    "count = 0\n",
    "for match1,match2 in zip(matches1,matches2):\n",
    "    vid_ages.append(match2[0])\n",
    "    vid_viewcounts.append(match1[0])"
   ]
  },
  {
   "cell_type": "code",
   "execution_count": 38,
   "id": "1378f99c-894f-45a3-9606-e2243ff96481",
   "metadata": {},
   "outputs": [
    {
     "data": {
      "text/plain": [
       "[{'title': 'Making of Jhoome Jo Pathaan Song | Pathaan | Shah Rukh Khan | Deepika Padukone | Siddharth Anand',\n",
       "  'thumbnail': 'https://i.ytimg.com/vi/uSSFACVucbs/hqdefault.jpg',\n",
       "  'link': 'https://www.youtube.com/watch?v=uSSFACVucbs',\n",
       "  'viewcount': '379K views',\n",
       "  'age': '3 weeks ago'},\n",
       " {'title': 'Making of Besharam Rang Song | Pathaan | Shah Rukh Khan | Deepika Padukone | Siddharth Anand',\n",
       "  'thumbnail': 'https://i.ytimg.com/vi/p7f685ljJL8/hqdefault.jpg',\n",
       "  'link': 'https://www.youtube.com/watch?v=p7f685ljJL8',\n",
       "  'viewcount': '122K views',\n",
       "  'age': '3 weeks ago'}]"
      ]
     },
     "execution_count": 38,
     "metadata": {},
     "output_type": "execute_result"
    }
   ],
   "source": [
    "titles = vid_titles[0:10]\n",
    "thumbnails = list(dict.fromkeys(vid_thumbnails))\n",
    "links = vid_links[0:10]\n",
    "viewcounts=vid_viewcounts[0:20:2]\n",
    "ages=vid_ages[0:20:2]\n",
    "\n",
    "details_list=[]\n",
    "\n",
    "for title,thumbnail,link,viewcount,age in zip(titles,thumbnails,links,viewcounts,ages):\n",
    "    details_dict={\n",
    "    \"title\":title.split('\"')[-2], \"thumbnail\": thumbnail, \"link\": \"https://www.youtube.com/\"+link,\n",
    "    \"viewcount\": viewcount, \"age\": age\n",
    "    }\n",
    "    details_list.append(details_dict)\n",
    "\n",
    "\n",
    "\n",
    "details_list"
   ]
  },
  {
   "cell_type": "code",
   "execution_count": 37,
   "id": "7ccc367a-750f-47e0-a091-75445031a564",
   "metadata": {},
   "outputs": [],
   "source": [
    "df = pd.DataFrame(details_list)\n",
    "df.to_csv('YTscrapData.csv', index=False)"
   ]
  },
  {
   "cell_type": "code",
   "execution_count": null,
   "id": "9a752662-bec3-43fa-be0a-8bf47cf7fd70",
   "metadata": {},
   "outputs": [],
   "source": []
  }
 ],
 "metadata": {
  "kernelspec": {
   "display_name": "Python 3 (ipykernel)",
   "language": "python",
   "name": "python3"
  },
  "language_info": {
   "codemirror_mode": {
    "name": "ipython",
    "version": 3
   },
   "file_extension": ".py",
   "mimetype": "text/x-python",
   "name": "python",
   "nbconvert_exporter": "python",
   "pygments_lexer": "ipython3",
   "version": "3.10.8"
  }
 },
 "nbformat": 4,
 "nbformat_minor": 5
}
